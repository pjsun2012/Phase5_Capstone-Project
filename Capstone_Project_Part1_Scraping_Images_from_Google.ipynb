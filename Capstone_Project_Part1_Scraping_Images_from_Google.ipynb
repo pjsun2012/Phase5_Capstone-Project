{
 "cells": [
  {
   "cell_type": "markdown",
   "id": "87348e4e",
   "metadata": {},
   "source": [
    "# Deep Learning for Automated Corrosion Detection"
   ]
  },
  {
   "cell_type": "markdown",
   "id": "300cc17e",
   "metadata": {},
   "source": [
    "## Author: Pengju Sun"
   ]
  },
  {
   "cell_type": "markdown",
   "id": "8dc5a790",
   "metadata": {},
   "source": [
    "# Content:\n",
    "### Part 1: <a href='#Part1'>Web Scraping Corrosion and No Corrosion Images From Google</a>\n",
    "### Part 2: <a href='https://github.com/pjsun2012/Phase5_Capstone-Project/blob/main/Capstone_Project_Part2_Dataset_Split_EDA.ipynb'>Dataset Split and EDA</a>\n",
    "### Part 3: <a href='https://github.com/pjsun2012/Phase5_Capstone-Project/blob/main/Capstone_Project_Part3_Models.ipynb'>Models</a>\n",
    "### Part 4: <a href='https://github.com/pjsun2012/Phase5_Capstone-Project/blob/main/Capstone_Project_Part4_Models.ipynb'>Models</a>\n",
    "### Part 5: <a href='https://github.com/pjsun2012/Phase5_Capstone-Project/blob/main/Capstone_Project_Part5_Models.ipynb'>Models</a>\n",
    "### Conclusion\n",
    "### Future Work"
   ]
  },
  {
   "cell_type": "markdown",
   "id": "59bb27df",
   "metadata": {},
   "source": [
    "<a id='Part1'></a> \n",
    "# Part 1: Scraping Images from Google"
   ]
  },
  {
   "cell_type": "markdown",
   "id": "330d5145",
   "metadata": {},
   "source": [
    "All the labeled CORROSION and NO CORROSION images were collected by scraping images from google. Selenium was used to automate web browser interaction with Python. Selenium pretends to be a real user, opens the browser, moves the cursor around, and clicks buttons if you tell it to do so. Please reference this complete guide of “[Image Scraping with Python](https://towardsdatascience.com/image-scraping-with-python-a96feda8af2d)” for the detailed explanation and steps with codes.\n",
    "\n",
    "The CORROSION images were scraped from Google Images using keyword searches that include eight categories of corrosion problems, such as ‘Steel Corrosion/Rust,’ ‘Ships Corrosion,’ ‘Ship Propellers Corrosion,’ ‘Cars Corrosion,’ ‘Oil and Gas Pipelines Corrosion,’ ‘Concrete Rebar Corrosion,’ ‘Water/Oil Tanks Corrosion,’ and ‘Stainless Steel Corrosion,’ The NO CORROSION images were also scraped from Google Images using the same terms without corrosion."
   ]
  },
  {
   "cell_type": "markdown",
   "id": "81bed612",
   "metadata": {},
   "source": [
    "## Searching for a particular phrase & get the image links"
   ]
  },
  {
   "cell_type": "code",
   "execution_count": 1,
   "id": "642fd5be",
   "metadata": {
    "ExecuteTime": {
     "end_time": "2021-05-27T15:42:09.586886Z",
     "start_time": "2021-05-27T15:42:09.491503Z"
    }
   },
   "outputs": [],
   "source": [
    "import selenium\n",
    "from selenium import webdriver\n",
    "import PIL\n",
    "from PIL import Image\n",
    "import time\n",
    "import pathlib\n",
    "import glob\n",
    "import os, os.path, shutil\n",
    "import requests\n",
    "# Regular expressions allows us to parse text easier\n",
    "import re\n",
    "# Function for load a specific webpage\n",
    "import io\n",
    "import hashlib\n",
    "DRIVER_PATH = '/Users/pengjusun/Desktop/Web_Scraping/chromedriver'"
   ]
  },
  {
   "cell_type": "code",
   "execution_count": 2,
   "id": "f94884df",
   "metadata": {
    "ExecuteTime": {
     "end_time": "2021-05-27T15:42:09.591424Z",
     "start_time": "2021-05-27T15:42:09.587760Z"
    }
   },
   "outputs": [],
   "source": [
    "def fetch_image_urls(query:str, max_links_to_fetch:int, wd:webdriver, sleep_between_interactions:int=1):\n",
    "\n",
    "    def scroll_to_end(wd):\n",
    "        wd.execute_script(\"window.scrollTo(0, document.body.scrollHeight);\")\n",
    "        time.sleep(sleep_between_interactions)    \n",
    "    \n",
    "    # build the google query\n",
    "    search_url = \"https://www.google.com/search?safe=off&site=&tbm=isch&source=hp&q={q}&oq={q}&gs_l=img\"\n",
    "\n",
    "    # load the page\n",
    "    wd.get(search_url.format(q=query))\n",
    "\n",
    "    image_urls = set()\n",
    "    image_count = 0\n",
    "    results_start = 0\n",
    "    while image_count < max_links_to_fetch:\n",
    "        scroll_to_end(wd)\n",
    "\n",
    "        # get all image thumbnail results\n",
    "        thumbnail_results = wd.find_elements_by_css_selector(\"img.Q4LuWd\")\n",
    "        number_results = len(thumbnail_results)\n",
    "        \n",
    "        print(f\"Found: {number_results} search results. Extracting links from {results_start}:{number_results}\")\n",
    "        \n",
    "        for img in thumbnail_results[results_start:number_results]:\n",
    "            # try to click every thumbnail such that we can get the real image behind it\n",
    "            try:\n",
    "                img.click()\n",
    "                time.sleep(sleep_between_interactions)\n",
    "            except Exception:\n",
    "                continue\n",
    "\n",
    "            # extract image urls    \n",
    "            actual_images = wd.find_elements_by_css_selector('img.n3VNCb')\n",
    "            for actual_image in actual_images:\n",
    "                if actual_image.get_attribute('src') and 'http' in actual_image.get_attribute('src'):\n",
    "                    image_urls.add(actual_image.get_attribute('src'))\n",
    "\n",
    "            image_count = len(image_urls)\n",
    "\n",
    "            if len(image_urls) >= max_links_to_fetch:\n",
    "                print(f\"Found: {len(image_urls)} image links, done!\")\n",
    "                break\n",
    "        else:\n",
    "            print(\"Found:\", len(image_urls), \"image links, looking for more ...\")\n",
    "            time.sleep(30)\n",
    "            return\n",
    "            load_more_button = wd.find_element_by_css_selector(\".mye4qd\")\n",
    "            if load_more_button:\n",
    "                wd.execute_script(\"document.querySelector('.mye4qd').click();\")\n",
    "\n",
    "        # move the result startpoint further down\n",
    "        results_start = len(thumbnail_results)\n",
    "\n",
    "    return image_urls"
   ]
  },
  {
   "cell_type": "markdown",
   "id": "56081c24",
   "metadata": {},
   "source": [
    "## Downloading the images"
   ]
  },
  {
   "cell_type": "code",
   "execution_count": 3,
   "id": "eab58c78",
   "metadata": {
    "ExecuteTime": {
     "end_time": "2021-05-27T15:42:09.594916Z",
     "start_time": "2021-05-27T15:42:09.592593Z"
    }
   },
   "outputs": [],
   "source": [
    "def persist_image(folder_path:str,url:str):\n",
    "    try:\n",
    "        image_content = requests.get(url).content\n",
    "\n",
    "    except Exception as e:\n",
    "        print(f\"ERROR - Could not download {url} - {e}\")\n",
    "\n",
    "    try:\n",
    "        image_file = io.BytesIO(image_content)\n",
    "        image = Image.open(image_file).convert('RGB')\n",
    "        file_path = os.path.join(folder_path,hashlib.sha1(image_content).hexdigest()[:10] + '.jpg')\n",
    "        with open(file_path, 'wb') as f:\n",
    "            image.save(f, \"JPEG\", quality=85)\n",
    "        print(f\"SUCCESS - saved {url} - as {file_path}\")\n",
    "    except Exception as e:\n",
    "        print(f\"ERROR - Could not save {url} - {e}\")"
   ]
  },
  {
   "cell_type": "markdown",
   "id": "50549b4e",
   "metadata": {},
   "source": [
    "## Putting it all together"
   ]
  },
  {
   "cell_type": "code",
   "execution_count": 4,
   "id": "da16dd8f",
   "metadata": {
    "ExecuteTime": {
     "end_time": "2021-05-27T15:42:09.598009Z",
     "start_time": "2021-05-27T15:42:09.595879Z"
    }
   },
   "outputs": [],
   "source": [
    "def search_and_download(search_term:str,driver_path:str,target_path='./images',number_images=100):\n",
    "    target_folder = os.path.join(target_path,'_'.join(search_term.lower().split(' ')))\n",
    "\n",
    "    if not os.path.exists(target_folder):\n",
    "        os.makedirs(target_folder)\n",
    "\n",
    "    with webdriver.Chrome(executable_path=driver_path) as wd:\n",
    "        res = fetch_image_urls(search_term, number_images, wd=wd, sleep_between_interactions=0.5)\n",
    "        \n",
    "    for elem in res:\n",
    "        persist_image(target_folder,elem)"
   ]
  },
  {
   "cell_type": "code",
   "execution_count": 5,
   "id": "6325e2e1",
   "metadata": {
    "ExecuteTime": {
     "end_time": "2021-05-27T15:43:26.399423Z",
     "start_time": "2021-05-27T15:42:09.598674Z"
    },
    "scrolled": false
   },
   "outputs": [
    {
     "name": "stdout",
     "output_type": "stream",
     "text": [
      "Found: 100 search results. Extracting links from 0:100\n",
      "Found: 101 image links, done!\n",
      "SUCCESS - saved https://encrypted-tbn0.gstatic.com/images?q=tbn:ANd9GcRSfCsQ6oEEyHOocaIFftyZJyQe4RYuQD2IyQ&usqp=CAU - as ./images/steel_plate/0947fa8f9b.jpg\n",
      "SUCCESS - saved https://cdn11.bigcommerce.com/s-opskm61a5f/images/stencil/1280x1280/products/172/476/apiqslrfk__11869.1618439247.jpg?c=1 - as ./images/steel_plate/732acc682d.jpg\n",
      "SUCCESS - saved https://sc04.alicdn.com/kf/HTB1UQcbxkCWBuNjy0Faq6xUlXXat.jpg - as ./images/steel_plate/d1615cba0c.jpg\n",
      "SUCCESS - saved https://encrypted-tbn0.gstatic.com/images?q=tbn:ANd9GcTrPCL0wgd8TEMk-WrshCAVYDVDHUHjN9mbkw&usqp=CAU - as ./images/steel_plate/8a4e6c524c.jpg\n",
      "SUCCESS - saved https://encrypted-tbn0.gstatic.com/images?q=tbn:ANd9GcSN6b-QXFhl7Oz-bg8ttnYHM0wbuhTdm_t7Bg&usqp=CAU - as ./images/steel_plate/0a9f7a0eee.jpg\n",
      "SUCCESS - saved https://static.toiimg.com/thumb/msid-77012085,width-800,height-600,resizemode-75,imgsize-238730,pt-32,y_pad-40/77012085.jpg - as ./images/steel_plate/56396bde7c.jpg\n",
      "SUCCESS - saved https://tampasteel.com/wp-content/uploads/2016/06/TSS-1606-Stainless-Steel-Sheet-Metal-900x300.jpg - as ./images/steel_plate/3cf9deea36.jpg\n",
      "SUCCESS - saved https://encrypted-tbn0.gstatic.com/images?q=tbn:ANd9GcSrnsD09k_BjCtyHtHx_hdoMKWvIuIzPGSuCA&usqp=CAU - as ./images/steel_plate/3898e6c967.jpg\n",
      "SUCCESS - saved https://www.centersteel.com/cm/dpl/images/create/checkered-plates.jpg - as ./images/steel_plate/6f5187fb13.jpg\n",
      "SUCCESS - saved https://www.cargohandbook.com/images/thumb/1/1b/Steel_plates.jpg/240px-Steel_plates.jpg - as ./images/steel_plate/3f6e1ac839.jpg\n",
      "SUCCESS - saved https://encrypted-tbn0.gstatic.com/images?q=tbn:ANd9GcR8xhNov5jjJxqLZU9kBWD5uVU5l-Ws0fp7WA&usqp=CAU - as ./images/steel_plate/28358b584c.jpg\n",
      "SUCCESS - saved https://encrypted-tbn0.gstatic.com/images?q=tbn:ANd9GcQkPBJecim0R0OA60HpwlX6skWdVjCMR3nSHA&usqp=CAU - as ./images/steel_plate/13bebc3bfc.jpg\n",
      "SUCCESS - saved https://cdn.shopify.com/s/files/1/2393/7423/products/r-steel_plate_c1d7e566-2f8e-4723-b871-c1792f6942ec_300x300.png?v=1509551186 - as ./images/steel_plate/26bbbd9328.jpg\n",
      "ERROR - Could not save https://prestigemetals.com/wp-content/uploads/2019/06/fotolia_3401762_XS.jpg - cannot identify image file <_io.BytesIO object at 0x10530e7c0>\n",
      "SUCCESS - saved https://encrypted-tbn0.gstatic.com/images?q=tbn:ANd9GcTC-D-83K0t1xNGORTXmJ5HTdj-U3CZRqXHUQ&usqp=CAU - as ./images/steel_plate/01a5aee1ab.jpg\n",
      "ERROR - Could not download https://www.alro.com/Resources/WebResources/AlroCom/GridPoint/Images/Types/17.jpg - HTTPSConnectionPool(host='www.alro.com', port=443): Max retries exceeded with url: /Resources/WebResources/AlroCom/GridPoint/Images/Types/17.jpg (Caused by SSLError(SSLCertVerificationError(1, '[SSL: CERTIFICATE_VERIFY_FAILED] certificate verify failed: unable to get local issuer certificate (_ssl.c:1125)')))\n",
      "ERROR - Could not save https://www.alro.com/Resources/WebResources/AlroCom/GridPoint/Images/Types/17.jpg - local variable 'image_content' referenced before assignment\n",
      "SUCCESS - saved https://i.ebayimg.com/images/g/JWwAAOSw3ydVr6KX/s-l300.jpg - as ./images/steel_plate/b14f686265.jpg\n",
      "SUCCESS - saved https://encrypted-tbn0.gstatic.com/images?q=tbn:ANd9GcTPzeYZ_Ghg_Ix67DzA7R0ThK5e6MeB8cuvOg&usqp=CAU - as ./images/steel_plate/e767b81593.jpg\n",
      "SUCCESS - saved https://cdn3.vectorstock.com/i/1000x1000/77/27/metal-chrome-steel-plate-isolated-on-transparent-vector-20387727.jpg - as ./images/steel_plate/9ee29f53b0.jpg\n",
      "SUCCESS - saved https://www.leecosteel.com/pub/media/catalog/product/cache/9ee8bea5ad922789304df6f8e3d125fb/a/r/ar500-05x120x480-steel-plate-frontview_1.jpg - as ./images/steel_plate/42d0f99e1e.jpg\n",
      "SUCCESS - saved https://images-na.ssl-images-amazon.com/images/I/31s6weHVqfL._AC_.jpg - as ./images/steel_plate/07ad6490bb.jpg\n",
      "SUCCESS - saved https://encrypted-tbn0.gstatic.com/images?q=tbn:ANd9GcQ7QDJNfB6VYXE7OC1U4N8N9M0R6J9Q6MBTAw&usqp=CAU - as ./images/steel_plate/dd8f32d187.jpg\n",
      "SUCCESS - saved https://encrypted-tbn0.gstatic.com/images?q=tbn:ANd9GcRensghNF6E0E4ckj0Z5bPTe-D_ehlo4H1vjQ&usqp=CAU - as ./images/steel_plate/32cd2157b4.jpg\n",
      "SUCCESS - saved https://encrypted-tbn0.gstatic.com/images?q=tbn:ANd9GcSeBlo7iclBQv6RBcyWSEEL3ssSmPe0nFnNJg&usqp=CAU - as ./images/steel_plate/d799a62e4a.jpg\n",
      "SUCCESS - saved https://encrypted-tbn0.gstatic.com/images?q=tbn:ANd9GcRXM7FfLp_YbMWCCldPiFefpnPwPTlkBRkVyw&usqp=CAU - as ./images/steel_plate/897285f1c0.jpg\n",
      "SUCCESS - saved https://www.dixmetals.com/media/catalog/category/a36-2.jpg - as ./images/steel_plate/6138ac3524.jpg\n",
      "SUCCESS - saved https://encrypted-tbn0.gstatic.com/images?q=tbn:ANd9GcSMPwUX02P65SnMFIf7OtxBDasW4LVl6svVmA&usqp=CAU - as ./images/steel_plate/961d0a72f7.jpg\n",
      "SUCCESS - saved https://image.shutterstock.com/image-illustration/stainless-steel-plate-texture-260nw-765203230.jpg - as ./images/steel_plate/8216d406eb.jpg\n",
      "SUCCESS - saved https://www.kloecknermetals.com/wp-content/uploads/2017/07/110_110010000_110020017__HR__-740x516.jpg - as ./images/steel_plate/d1e6ebd83b.jpg\n",
      "SUCCESS - saved https://encrypted-tbn0.gstatic.com/images?q=tbn:ANd9GcSWgUbyrSmpMG0CcHX7IxetIB8ERhpbCzkNqw&usqp=CAU - as ./images/steel_plate/072c8ad218.jpg\n",
      "SUCCESS - saved https://cdn.shopify.com/s/files/1/0083/8369/2866/products/BAOT-TSG1012BC_main_sq.jpg?v=1579806995 - as ./images/steel_plate/28ded3ee73.jpg\n",
      "SUCCESS - saved https://encrypted-tbn0.gstatic.com/images?q=tbn:ANd9GcQJ9wxsfXTTgHbhpYCAMuFGOnMPChzXfm-CWQ&usqp=CAU - as ./images/steel_plate/5b0c61bfa5.jpg\n",
      "SUCCESS - saved https://www.onlinemetals.com/medias/8797245046814.jpg?context=bWFzdGVyfGltYWdlc3w3NTI5M3xpbWFnZS9qcGVnfGltYWdlcy9oZjEvaGUzLzkwOTkxNjkyMDIyMDYuanBnfDk0YjUyZWRiMzkxMjFjZDM3N2ZiMTQ2NWRkYjhiNWZkNjhkNDc4NTA3MDkyMjUwODQ2N2E3ZDkxMTBmMjhiNmY - as ./images/steel_plate/f484d4c14a.jpg\n",
      "SUCCESS - saved https://happytiffin.com/wp-content/uploads/2009/05/zoom-mess-plate.png - as ./images/steel_plate/3249cf5c0a.jpg\n",
      "SUCCESS - saved https://www.leecosteel.com/pub/media/catalog/product/cache/9ee8bea5ad922789304df6f8e3d125fb/a/3/a36-1x96x240-steel-plate-frontview_1.jpg - as ./images/steel_plate/22842796d7.jpg\n",
      "SUCCESS - saved https://media.istockphoto.com/photos/stack-of-steel-sheets-warehouse-steel-plates-isolated-clipping-path-picture-id1220652235?k=6&m=1220652235&s=612x612&w=0&h=wQBPVIiGtaom0r99uKbZEWLZxtpD07uaULZMkEGhA6A= - as ./images/steel_plate/db55ddcd93.jpg\n",
      "SUCCESS - saved https://media.istockphoto.com/photos/metal-plate-background-industrial-sheet-surface-picture-id833758098?k=6&m=833758098&s=612x612&w=0&h=OqGw2sHruzMzhIgFdo9CUDmkNgiU_vknItp6RMg6qwU= - as ./images/steel_plate/ab1e3462b8.jpg\n",
      "SUCCESS - saved https://images-na.ssl-images-amazon.com/images/I/515KeoEn20L._SL1024_.jpg - as ./images/steel_plate/067d5bf781.jpg\n",
      "SUCCESS - saved https://cdn11.bigcommerce.com/s-lq1r9s/images/stencil/1280x1280/products/194049/211317/6985bf06-58e2-42f6-8e0e-6f75df6bde54__66594.1599055890.jpg?c=2 - as ./images/steel_plate/b8fabe6022.jpg\n",
      "SUCCESS - saved https://encrypted-tbn0.gstatic.com/images?q=tbn:ANd9GcQrjtdDKeHSbPbGRookt4y4AT_M9gbBYqpFCQ&usqp=CAU - as ./images/steel_plate/9879b2db2e.jpg\n",
      "SUCCESS - saved https://encrypted-tbn0.gstatic.com/images?q=tbn:ANd9GcSBBmSyqYTxVbP_1n7q7Se5SdzPxhuqt31g1Q&usqp=CAU - as ./images/steel_plate/77f17df202.jpg\n",
      "SUCCESS - saved https://uploads-cdn.omnicalculator.com/images/steelplate/rectangular_plate.png - as ./images/steel_plate/e11d25e50a.jpg\n",
      "SUCCESS - saved https://encrypted-tbn0.gstatic.com/images?q=tbn:ANd9GcSa6BfSwDbn4oqlwLEqHBfW8eC2awDK8yp6Xw&usqp=CAU - as ./images/steel_plate/3991aa8c47.jpg\n",
      "SUCCESS - saved https://encrypted-tbn0.gstatic.com/images?q=tbn:ANd9GcTrhgt6HJ4Whey-zqls1ib1hhzrJSM3uulSQg&usqp=CAU - as ./images/steel_plate/9b43ea4f66.jpg\n",
      "SUCCESS - saved https://www.edelrid.de/media/27970/l/0/ - as ./images/steel_plate/0e97d703e1.jpg\n",
      "SUCCESS - saved https://encrypted-tbn0.gstatic.com/images?q=tbn:ANd9GcQc6wy4khdQTs0p7Q9-abVwQf-jKbb1u3um8g&usqp=CAU - as ./images/steel_plate/46883f982a.jpg\n",
      "SUCCESS - saved https://encrypted-tbn0.gstatic.com/images?q=tbn:ANd9GcRuu2WtTu4OTS5RJ9hc2Rh_B8CHN8XlfmPwfg&usqp=CAU - as ./images/steel_plate/884c2d3bf6.jpg\n",
      "SUCCESS - saved https://encrypted-tbn0.gstatic.com/images?q=tbn:ANd9GcQI8iHLUqRfk3y3TZ0zbGpbcvVWwn_LHd0KWg&usqp=CAU - as ./images/steel_plate/4ad1e56175.jpg\n"
     ]
    },
    {
     "name": "stdout",
     "output_type": "stream",
     "text": [
      "SUCCESS - saved https://encrypted-tbn0.gstatic.com/images?q=tbn:ANd9GcSZ-oqRdKcGKlA1gKgd0zrz764_tW4LSh7MxQ&usqp=CAU - as ./images/steel_plate/aa15d95db4.jpg\n",
      "SUCCESS - saved https://www.coremarkmetals.com/files/image/large/HR_PLATE_099_3000.jpg - as ./images/steel_plate/8896c37bd2.jpg\n",
      "SUCCESS - saved https://encrypted-tbn0.gstatic.com/images?q=tbn:ANd9GcQGPfdKyqJTQb8P3UBU34FRzEtJH2CpAoPY_A&usqp=CAU - as ./images/steel_plate/7706f3ba36.jpg\n",
      "SUCCESS - saved https://encrypted-tbn0.gstatic.com/images?q=tbn:ANd9GcSZnvkrBEJBWKLvn4EYw40PhZZsGyLmbcEUHA&usqp=CAU - as ./images/steel_plate/9526254678.jpg\n",
      "SUCCESS - saved https://encrypted-tbn0.gstatic.com/images?q=tbn:ANd9GcTAx-rJ9TCgbI-P6DoVFwnVAzyQk7ivjopGsg&usqp=CAU - as ./images/steel_plate/181d1724f4.jpg\n",
      "SUCCESS - saved https://jlrorwxhniqimk5p.ldycdn.com/cloud/mlBppKmlRmmSpkrmnoor/15.jpg - as ./images/steel_plate/9e7533d796.jpg\n",
      "SUCCESS - saved https://www.metalsdepot.com/assets/files/Catalog_Photos/steel-floor-plate-surface.jpg - as ./images/steel_plate/cf1c13c7c4.jpg\n",
      "SUCCESS - saved https://www.industrialmetalsupply.com/images/products/Specs/Sheet%20Specs.jpg - as ./images/steel_plate/d1d55b697a.jpg\n",
      "SUCCESS - saved https://previews.123rf.com/images/claudiodivizia/claudiodivizia0905/claudiodivizia090500070/4846579-diamond-steel-plate-useful-as-a-background.jpg - as ./images/steel_plate/8b76ef45db.jpg\n",
      "SUCCESS - saved https://www.imperialsupplies.com/ProductImageThumbs400/61/19/PI_Asset_1176119.jpg - as ./images/steel_plate/3a7495cc6f.jpg\n",
      "SUCCESS - saved https://encrypted-tbn0.gstatic.com/images?q=tbn:ANd9GcQuRY3GffCWpyZ9MpKccbMqkqDVWn5Uz8vltg&usqp=CAU - as ./images/steel_plate/5c8d18e5c9.jpg\n",
      "SUCCESS - saved https://encrypted-tbn0.gstatic.com/images?q=tbn:ANd9GcSEoVzsAF14FMrFcUKYVzWOTC9sHsemzwzirQ&usqp=CAU - as ./images/steel_plate/66e588f5b0.jpg\n",
      "SUCCESS - saved https://encrypted-tbn0.gstatic.com/images?q=tbn:ANd9GcQbV2GVMvCijTx2Fy3hvMQR7ZZQAlUY5nIVDg&usqp=CAU - as ./images/steel_plate/8aa66f7466.jpg\n",
      "SUCCESS - saved https://encrypted-tbn0.gstatic.com/images?q=tbn:ANd9GcR2J8Cn6j5pmaq_UKUUWWHYqZS86h8UADINAQ&usqp=CAU - as ./images/steel_plate/969dd9b0c2.jpg\n",
      "SUCCESS - saved https://encrypted-tbn0.gstatic.com/images?q=tbn:ANd9GcRbh7f_Dxj96cXZZL3-TS6ipXxN9SW2IO2FQg&usqp=CAU - as ./images/steel_plate/6207b79c6f.jpg\n",
      "SUCCESS - saved https://www.sinplastico.com/4133-large_default/stainless-steel-plate.jpg - as ./images/steel_plate/c1be72f4df.jpg\n",
      "SUCCESS - saved https://image.made-in-china.com/2f0j00oGlRWdMUCbqc/Checkered-Plate-ASTM-A36-Steel-Equivalent-A283-Gr-C-Checkered-Steel-Plate.jpg - as ./images/steel_plate/65ddbd88cc.jpg\n",
      "SUCCESS - saved https://encrypted-tbn0.gstatic.com/images?q=tbn:ANd9GcSId8G4wx564VHlCRP8NbgqBWlouNKpI2P13g&usqp=CAU - as ./images/steel_plate/22c06a5743.jpg\n",
      "SUCCESS - saved https://sc04.alicdn.com/kf/Hfdcbdae85c9f44afb72ad9b439b3102eU.jpg - as ./images/steel_plate/fa179b3a8b.jpg\n",
      "SUCCESS - saved https://www.midweststeelsupply.com/store/cw4/images/product_full/304stainlesssteelplate.jpg - as ./images/steel_plate/8a593a04fc.jpg\n",
      "SUCCESS - saved https://encrypted-tbn0.gstatic.com/images?q=tbn:ANd9GcS3pejN9-BI-CgP6_pAqc7B7r5AqXTlYIN0Bg&usqp=CAU - as ./images/steel_plate/4cb2dce4f3.jpg\n",
      "SUCCESS - saved https://www.cut2sizemetals.com/images/products/mobile/spl-304.jpg - as ./images/steel_plate/87912e9531.jpg\n",
      "SUCCESS - saved https://encrypted-tbn0.gstatic.com/images?q=tbn:ANd9GcTdKI-as-iQcbIY1E1c5KkbZyAPZAC_wUiS7Q&usqp=CAU - as ./images/steel_plate/d578647aed.jpg\n",
      "SUCCESS - saved https://encrypted-tbn0.gstatic.com/images?q=tbn:ANd9GcQSePgOnpyzvdFTejrxfixNdOjf3XkkPxnRLw&usqp=CAU - as ./images/steel_plate/cf2f4cec2f.jpg\n",
      "SUCCESS - saved https://www.midweststeelsupply.com/store/cw4/images/product_full/a36steelplate.jpg - as ./images/steel_plate/5a0c79b73b.jpg\n",
      "SUCCESS - saved https://www.steelwarehouse.com/assets/images/buckets/flr-plt-steel.jpg - as ./images/steel_plate/dca70d12eb.jpg\n",
      "SUCCESS - saved https://cdn5.vectorstock.com/i/1000x1000/90/59/polished-steel-plate-vector-22499059.jpg - as ./images/steel_plate/4620d443c3.jpg\n",
      "SUCCESS - saved https://encrypted-tbn0.gstatic.com/images?q=tbn:ANd9GcTepABoc4guOntOhlakZCetoj6FlKK82rQEVw&usqp=CAU - as ./images/steel_plate/1e2c7f2b09.jpg\n",
      "SUCCESS - saved https://encrypted-tbn0.gstatic.com/images?q=tbn:ANd9GcSBc8F_KUb5UyPXI22kEJsA6CAN3zBokWJrug&usqp=CAU - as ./images/steel_plate/4ba20916dd.jpg\n",
      "SUCCESS - saved https://encrypted-tbn0.gstatic.com/images?q=tbn:ANd9GcTkOx5QKm9pPPrV4BL2pQ1FvXNQaVpfTAtPMQ&usqp=CAU - as ./images/steel_plate/35cb818e69.jpg\n",
      "SUCCESS - saved https://encrypted-tbn0.gstatic.com/images?q=tbn:ANd9GcR4KNuxkPJYTya9NEBCAwXeCWBIfWv22N6Xdw&usqp=CAU - as ./images/steel_plate/d32df60bc7.jpg\n",
      "SUCCESS - saved https://encrypted-tbn0.gstatic.com/images?q=tbn:ANd9GcSJ1jTloUGNgjzbL88hnNWWfUI4ohp3oW3AXA&usqp=CAU - as ./images/steel_plate/5648550a51.jpg\n",
      "SUCCESS - saved https://encrypted-tbn0.gstatic.com/images?q=tbn:ANd9GcQGgMUaC-HzoqMJHFMjdP5X3eq0bHel7xwZoA&usqp=CAU - as ./images/steel_plate/42344ad2da.jpg\n",
      "SUCCESS - saved https://www.steelsupplylp.com/uploads/general/Steel-Floor-Plate.jpg - as ./images/steel_plate/9439174455.jpg\n",
      "SUCCESS - saved https://encrypted-tbn0.gstatic.com/images?q=tbn:ANd9GcS2V8VeviVVfNIHZI608jFRhoKapwlk46mMAg&usqp=CAU - as ./images/steel_plate/31d13ecf54.jpg\n",
      "SUCCESS - saved https://www.mkmetal.net/includes/work/image_cache/gif/139350f589a61df4fc1d205923802ed1.thumb.gif - as ./images/steel_plate/97266a6949.jpg\n",
      "SUCCESS - saved https://encrypted-tbn0.gstatic.com/images?q=tbn:ANd9GcQ5o0nbu8xKIu1dq1BC_Qol_4slteBoPW-1yA&usqp=CAU - as ./images/steel_plate/5875881264.jpg\n",
      "SUCCESS - saved https://encrypted-tbn0.gstatic.com/images?q=tbn:ANd9GcR1xwJCTCT4T2yxSrgmly_OIxoTosWS6PNiGA&usqp=CAU - as ./images/steel_plate/b26429d858.jpg\n",
      "SUCCESS - saved https://www.themetalsfactory.com/wp-content/uploads/2018/10/Stainless-Steel-Plate-Cutting-Blocks-Suppliers-Manufacturers-Exporters.jpg - as ./images/steel_plate/8152937a14.jpg\n",
      "SUCCESS - saved https://encrypted-tbn0.gstatic.com/images?q=tbn:ANd9GcT6Ji2mgQLvYYI2G4Y5cbz0hBRXiTPB9nHjAQ&usqp=CAU - as ./images/steel_plate/d462e5d72a.jpg\n",
      "SUCCESS - saved https://encrypted-tbn0.gstatic.com/images?q=tbn:ANd9GcRYVETgBg-hk_aonwQ9CXVPJfVBQ4u2N5VGgw&usqp=CAU - as ./images/steel_plate/4ed31a4f29.jpg\n",
      "SUCCESS - saved https://www.bsstainless.com/images/pictures/bsstainlesscom/stainless-plates-(600x315-ffffff).jpg?v=2974782c - as ./images/steel_plate/721f33d85d.jpg\n",
      "ERROR - Could not download https://www.alro.com/Resources/WebResources/AlroCom/GridPoint/Images/Types/16.jpg - HTTPSConnectionPool(host='www.alro.com', port=443): Max retries exceeded with url: /Resources/WebResources/AlroCom/GridPoint/Images/Types/16.jpg (Caused by SSLError(SSLCertVerificationError(1, '[SSL: CERTIFICATE_VERIFY_FAILED] certificate verify failed: unable to get local issuer certificate (_ssl.c:1125)')))\n",
      "ERROR - Could not save https://www.alro.com/Resources/WebResources/AlroCom/GridPoint/Images/Types/16.jpg - local variable 'image_content' referenced before assignment\n",
      "SUCCESS - saved https://encrypted-tbn0.gstatic.com/images?q=tbn:ANd9GcQjvxlEg1g0mVydp_4Qo2YHOOSYLFYCzrDqXg&usqp=CAU - as ./images/steel_plate/c553225736.jpg\n",
      "SUCCESS - saved https://www.steelsupplylp.com/uploads/general/plate.jpg - as ./images/steel_plate/aceae47b1b.jpg\n",
      "SUCCESS - saved https://images.homedepot-static.com/productImages/86d16e60-613b-47b0-bf08-beb0cfb7dbfe/svn/everbilt-sheet-metal-800497-64_1000.jpg - as ./images/steel_plate/5ebf1dcd29.jpg\n",
      "SUCCESS - saved https://tampasteel.com/wp-content/uploads/2016/06/TSS-1606-Steel-Plate-900x300.jpg - as ./images/steel_plate/5b61f80f6a.jpg\n",
      "SUCCESS - saved https://images-na.ssl-images-amazon.com/images/I/71s%2BmWvofeL._AC_SL1500_.jpg - as ./images/steel_plate/9372e36171.jpg\n",
      "SUCCESS - saved https://www.metalsdepot.com/assets/files/Catalog_Photos/sm_steel-plate-1.jpg - as ./images/steel_plate/95348fbdad.jpg\n",
      "SUCCESS - saved https://encrypted-tbn0.gstatic.com/images?q=tbn:ANd9GcRFwXXYfMPSycDARWo-PCmzZXZ6yWsGN60IGA&usqp=CAU - as ./images/steel_plate/93134b28f0.jpg\n",
      "SUCCESS - saved https://encrypted-tbn0.gstatic.com/images?q=tbn:ANd9GcSCMgJNY2FmlHndAvmvG58IQRbxwgX4qSGTbA&usqp=CAU - as ./images/steel_plate/c1a9a9e9de.jpg\n",
      "SUCCESS - saved https://encrypted-tbn0.gstatic.com/images?q=tbn:ANd9GcQB-NvkRqiTR2nW7_cBQpzruee-P_XWn_6mOw&usqp=CAU - as ./images/steel_plate/57c7ebb61e.jpg\n"
     ]
    },
    {
     "name": "stdout",
     "output_type": "stream",
     "text": [
      "SUCCESS - saved https://encrypted-tbn0.gstatic.com/images?q=tbn:ANd9GcQvB9z6HkG_EBjTUyd0_sL_HpEfsKM11BIhPg&usqp=CAU - as ./images/steel_plate/e9a2a6a2aa.jpg\n"
     ]
    }
   ],
   "source": [
    "# Example\n",
    "search_term = 'steel plate'\n",
    "search_and_download(search_term = search_term, driver_path=DRIVER_PATH)"
   ]
  }
 ],
 "metadata": {
  "kernelspec": {
   "display_name": "learn-env",
   "language": "python",
   "name": "learn-env"
  },
  "language_info": {
   "codemirror_mode": {
    "name": "ipython",
    "version": 3
   },
   "file_extension": ".py",
   "mimetype": "text/x-python",
   "name": "python",
   "nbconvert_exporter": "python",
   "pygments_lexer": "ipython3",
   "version": "3.8.8"
  },
  "toc": {
   "base_numbering": 1,
   "nav_menu": {},
   "number_sections": true,
   "sideBar": true,
   "skip_h1_title": false,
   "title_cell": "Table of Contents",
   "title_sidebar": "Contents",
   "toc_cell": false,
   "toc_position": {
    "height": "calc(100% - 180px)",
    "left": "10px",
    "top": "150px",
    "width": "353px"
   },
   "toc_section_display": true,
   "toc_window_display": true
  }
 },
 "nbformat": 4,
 "nbformat_minor": 5
}
